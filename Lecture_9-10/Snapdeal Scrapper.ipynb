{
 "cells": [
  {
   "cell_type": "code",
   "execution_count": 1,
   "metadata": {},
   "outputs": [],
   "source": [
    "import requests\n",
    "from bs4 import BeautifulSoup"
   ]
  },
  {
   "cell_type": "code",
   "execution_count": 2,
   "metadata": {},
   "outputs": [],
   "source": [
    "search = \"One plus 5t\""
   ]
  },
  {
   "cell_type": "code",
   "execution_count": 3,
   "metadata": {},
   "outputs": [],
   "source": [
    "url = \"https://www.snapdeal.com/search\""
   ]
  },
  {
   "cell_type": "code",
   "execution_count": 4,
   "metadata": {},
   "outputs": [],
   "source": [
    "parameters = {\n",
    "    \"keyword\": search\n",
    "}"
   ]
  },
  {
   "cell_type": "code",
   "execution_count": 6,
   "metadata": {},
   "outputs": [],
   "source": [
    "response = requests.get(url, params = parameters)"
   ]
  },
  {
   "cell_type": "code",
   "execution_count": 8,
   "metadata": {},
   "outputs": [],
   "source": [
    "soup = BeautifulSoup(response.content)"
   ]
  },
  {
   "cell_type": "code",
   "execution_count": 12,
   "metadata": {},
   "outputs": [],
   "source": [
    "products = soup.findAll(attrs = {\"class\": \"product-tuple-listing\"})"
   ]
  },
  {
   "cell_type": "code",
   "execution_count": null,
   "metadata": {},
   "outputs": [],
   "source": []
  },
  {
   "cell_type": "code",
   "execution_count": 22,
   "metadata": {},
   "outputs": [
    {
     "data": {
      "text/plain": [
       "'https://n1.sdlcdn.com/imgs/g/v/h/230X258_sharpened/Oneplus-5t-Hybrid-Covers-BBR-SDL949762607-1-11796.jpg'"
      ]
     },
     "execution_count": 22,
     "metadata": {},
     "output_type": "execute_result"
    }
   ],
   "source": [
    "products[0].find(attrs = {\"class\": \"product-tuple-image\"}).img.attrs['src']"
   ]
  },
  {
   "cell_type": "code",
   "execution_count": null,
   "metadata": {},
   "outputs": [],
   "source": []
  },
  {
   "cell_type": "code",
   "execution_count": null,
   "metadata": {},
   "outputs": [],
   "source": []
  },
  {
   "cell_type": "code",
   "execution_count": 14,
   "metadata": {},
   "outputs": [],
   "source": [
    "desc = products[0].find(attrs = {\"class\": \"product-tuple-description\"})"
   ]
  },
  {
   "cell_type": "code",
   "execution_count": 17,
   "metadata": {},
   "outputs": [
    {
     "data": {
      "text/plain": [
       "'Oneplus 5t Hybrid Covers BBR - Black'"
      ]
     },
     "execution_count": 17,
     "metadata": {},
     "output_type": "execute_result"
    }
   ],
   "source": [
    "desc.p.text"
   ]
  },
  {
   "cell_type": "code",
   "execution_count": 18,
   "metadata": {},
   "outputs": [
    {
     "name": "stdout",
     "output_type": "stream",
     "text": [
      "Oneplus 5t Hybrid Covers BBR - Black\n",
      "Oneplus 5T Cover Combo by TBZ\n",
      "Oneplus 5T Plain Cases Winsome - Black\n",
      "Oneplus 5T Hybrid Covers BEASTIN - Red 3 in 1 Double Dip All Side Protect Matte Hard Case\n",
      "Oneplus 5t Soft Silicon Cases Wow Imagine - Black\n",
      "Oneplus 5t Shock Proof Case JMA - Red Original Gkk 360째 Protection Slim Case\n",
      "Oneplus 5t Hybrid Covers Wow Imagine - Black\n",
      "Oneplus 5T Plain Cases TBZ - Black\n",
      "Oneplus 5T Printed Cover By SaleDart\n",
      "Oneplus 5T Printed Cover By Hupshy\n",
      "Oneplus 5T Printed Cover By krafter\n",
      "Oneplus 5T 3D Back Covers By Printland\n",
      "Oneplus 5T Printed Cover By Hupshy\n",
      "Oneplus 5t Hybrid Covers BBR - Blue\n",
      "Oneplus 5T Printed Cover By Crackndeal\n",
      "OnePlus 5T Printed Cover By Blutec\n",
      "Oneplus 5t Hybrid Covers YGS - Black\n",
      "Oneplus 5T Hybrid Covers Varaj - Black\n",
      "Oneplus 5t Plain Cases KolorFish - Red\n",
      "Oneplus 5T Shock Proof Case Avzax - Silver\n"
     ]
    }
   ],
   "source": [
    "for product in products:\n",
    "    desc = product.find(attrs = {\"class\": \"product-tuple-description\"})\n",
    "    \n",
    "    print(desc.p.text)"
   ]
  },
  {
   "cell_type": "code",
   "execution_count": null,
   "metadata": {},
   "outputs": [],
   "source": []
  }
 ],
 "metadata": {
  "kernelspec": {
   "display_name": "Python 3",
   "language": "python",
   "name": "python3"
  },
  "language_info": {
   "codemirror_mode": {
    "name": "ipython",
    "version": 3
   },
   "file_extension": ".py",
   "mimetype": "text/x-python",
   "name": "python",
   "nbconvert_exporter": "python",
   "pygments_lexer": "ipython3",
   "version": "3.6.3"
  }
 },
 "nbformat": 4,
 "nbformat_minor": 2
}
