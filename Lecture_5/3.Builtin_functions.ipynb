{
 "cells": [
  {
   "cell_type": "markdown",
   "metadata": {},
   "source": [
    "# <center>Intermediate Python (Part-3)</center>"
   ]
  },
  {
   "cell_type": "markdown",
   "metadata": {},
   "source": [
    "# ***<center>Important built-in functions</center>***"
   ]
  },
  {
   "cell_type": "markdown",
   "metadata": {},
   "source": [
    "## 1. sort\n",
    "\n",
    "- In place sorting: __iterable__.sort()\n",
    "    \n",
    "    \n",
    "- Return a sorted iterable: sorted(__iterable__)\n",
    "\n",
    "\n",
    "- Two optional arguments: **key** and **reverse**.\n",
    "    - ***key***: specifies a **function of one argument** that is used to extract a **comparison key** from each list element\n",
    "    - ***reverse***: A boolean value. If set to True, then the list elements are sorted as if each comparison were reversed."
   ]
  },
  {
   "cell_type": "code",
   "execution_count": 12,
   "metadata": {},
   "outputs": [],
   "source": [
    "arr = [\n",
    "        ('jatin', 1), \n",
    "        ('jbtin', 2), \n",
    "        ('jctin', 6), ('jdtin', 3), ('jetin', 4), ('jftin', 5)\n",
    "]"
   ]
  },
  {
   "cell_type": "code",
   "execution_count": 15,
   "metadata": {},
   "outputs": [],
   "source": [
    "arr.sort(key = lambda x: x[1])"
   ]
  },
  {
   "cell_type": "code",
   "execution_count": 16,
   "metadata": {},
   "outputs": [
    {
     "data": {
      "text/plain": [
       "[('jatin', 1),\n",
       " ('jbtin', 2),\n",
       " ('jdtin', 3),\n",
       " ('jetin', 4),\n",
       " ('jftin', 5),\n",
       " ('jctin', 6)]"
      ]
     },
     "execution_count": 16,
     "metadata": {},
     "output_type": "execute_result"
    }
   ],
   "source": [
    "arr"
   ]
  },
  {
   "cell_type": "code",
   "execution_count": 17,
   "metadata": {},
   "outputs": [],
   "source": [
    "arr = [5, 4, 3, 7, 6, 1]"
   ]
  },
  {
   "cell_type": "code",
   "execution_count": 19,
   "metadata": {},
   "outputs": [
    {
     "data": {
      "text/plain": [
       "[7, 6, 5, 4, 3, 1]"
      ]
     },
     "execution_count": 19,
     "metadata": {},
     "output_type": "execute_result"
    }
   ],
   "source": [
    "sorted(arr)[::-1]"
   ]
  },
  {
   "cell_type": "code",
   "execution_count": 20,
   "metadata": {},
   "outputs": [
    {
     "data": {
      "text/plain": [
       "[7, 6, 5, 4, 3, 1]"
      ]
     },
     "execution_count": 20,
     "metadata": {},
     "output_type": "execute_result"
    }
   ],
   "source": [
    "sorted(arr, reverse=True)"
   ]
  },
  {
   "cell_type": "code",
   "execution_count": null,
   "metadata": {},
   "outputs": [],
   "source": []
  },
  {
   "cell_type": "code",
   "execution_count": 21,
   "metadata": {},
   "outputs": [],
   "source": [
    "arr = [('a', 2), ('b', 4), ('c', 2), ('d', 1)]"
   ]
  },
  {
   "cell_type": "code",
   "execution_count": 23,
   "metadata": {},
   "outputs": [
    {
     "data": {
      "text/plain": [
       "[('b', 4), ('c', 2), ('a', 2), ('d', 1)]"
      ]
     },
     "execution_count": 23,
     "metadata": {},
     "output_type": "execute_result"
    }
   ],
   "source": [
    "# unstable reverse sort\n",
    "sorted(arr, key = lambda x: x[1])[::-1]"
   ]
  },
  {
   "cell_type": "code",
   "execution_count": 24,
   "metadata": {},
   "outputs": [
    {
     "data": {
      "text/plain": [
       "[('b', 4), ('a', 2), ('c', 2), ('d', 1)]"
      ]
     },
     "execution_count": 24,
     "metadata": {},
     "output_type": "execute_result"
    }
   ],
   "source": [
    "# stable reverse sort\n",
    "sorted(arr, key = lambda x: x[1], reverse = True)"
   ]
  },
  {
   "cell_type": "code",
   "execution_count": null,
   "metadata": {},
   "outputs": [],
   "source": []
  },
  {
   "cell_type": "code",
   "execution_count": null,
   "metadata": {},
   "outputs": [],
   "source": []
  },
  {
   "cell_type": "code",
   "execution_count": null,
   "metadata": {},
   "outputs": [],
   "source": []
  },
  {
   "cell_type": "code",
   "execution_count": null,
   "metadata": {},
   "outputs": [],
   "source": []
  },
  {
   "cell_type": "code",
   "execution_count": null,
   "metadata": {},
   "outputs": [],
   "source": []
  },
  {
   "cell_type": "code",
   "execution_count": null,
   "metadata": {},
   "outputs": [],
   "source": []
  },
  {
   "cell_type": "code",
   "execution_count": 26,
   "metadata": {},
   "outputs": [],
   "source": [
    "arr = [1, 1, 1, 1, 1, 1, 5, 5, 5, 5, 5, 5, 5, 2, 2, 2, 2, 2, 2, 3, 3, 3, 3, 3, 4, 4, 4, 4]"
   ]
  },
  {
   "cell_type": "code",
   "execution_count": 27,
   "metadata": {},
   "outputs": [],
   "source": [
    "arr2 = list(set(arr))"
   ]
  },
  {
   "cell_type": "code",
   "execution_count": 29,
   "metadata": {},
   "outputs": [
    {
     "data": {
      "text/plain": [
       "[1, 2, 3, 4, 5]"
      ]
     },
     "execution_count": 29,
     "metadata": {},
     "output_type": "execute_result"
    }
   ],
   "source": [
    "arr2"
   ]
  },
  {
   "cell_type": "code",
   "execution_count": 30,
   "metadata": {},
   "outputs": [],
   "source": [
    "import time"
   ]
  },
  {
   "cell_type": "code",
   "execution_count": 31,
   "metadata": {},
   "outputs": [
    {
     "name": "stdout",
     "output_type": "stream",
     "text": [
      "0.00017499923706054688\n"
     ]
    }
   ],
   "source": [
    "a = time.time()\n",
    "sorted(arr, reverse = True)\n",
    "print(time.time() - a)"
   ]
  },
  {
   "cell_type": "code",
   "execution_count": 32,
   "metadata": {},
   "outputs": [
    {
     "name": "stdout",
     "output_type": "stream",
     "text": [
      "7.200241088867188e-05\n"
     ]
    }
   ],
   "source": [
    "a = time.time()\n",
    "sorted(arr2, reverse = True)\n",
    "print(time.time() - a)"
   ]
  },
  {
   "cell_type": "code",
   "execution_count": null,
   "metadata": {},
   "outputs": [],
   "source": []
  },
  {
   "cell_type": "markdown",
   "metadata": {},
   "source": [
    "## 2. enumerate\n",
    "\n",
    "```python\n",
    "enumerate(iterable)\n",
    "```\n",
    "\n",
    "Returns a tuple containing a count (from start which defaults to 0) and the values obtained from iterating over the iterable."
   ]
  },
  {
   "cell_type": "code",
   "execution_count": 33,
   "metadata": {},
   "outputs": [],
   "source": [
    "arr = [1, 2, 3, 4, 5]"
   ]
  },
  {
   "cell_type": "code",
   "execution_count": 34,
   "metadata": {},
   "outputs": [
    {
     "name": "stdout",
     "output_type": "stream",
     "text": [
      "(0, 1)\n",
      "(1, 2)\n",
      "(2, 3)\n",
      "(3, 4)\n",
      "(4, 5)\n"
     ]
    }
   ],
   "source": [
    "for x in enumerate(arr):\n",
    "    print(x)"
   ]
  },
  {
   "cell_type": "code",
   "execution_count": null,
   "metadata": {},
   "outputs": [],
   "source": []
  },
  {
   "cell_type": "code",
   "execution_count": null,
   "metadata": {},
   "outputs": [],
   "source": []
  },
  {
   "cell_type": "code",
   "execution_count": null,
   "metadata": {},
   "outputs": [],
   "source": []
  },
  {
   "cell_type": "markdown",
   "metadata": {},
   "source": [
    "## 3. zip\n",
    "\n",
    "Make an iterator that aggregates elements from each of the iterables.\n",
    "\n",
    "![](http://s2.quickmeme.com/img/56/568cf8f60a23bea949f5bc0143607934e7fd8a7e5d0f5c44b86fc12c1ffb8185.jpg)"
   ]
  },
  {
   "cell_type": "code",
   "execution_count": 39,
   "metadata": {},
   "outputs": [],
   "source": [
    "names = ['Ram', 'Shyam', 'Ravi', 'Mohan']\n",
    "scores = [3,4,5,2]\n",
    "ages = [10, 11, 12, 13]"
   ]
  },
  {
   "cell_type": "code",
   "execution_count": 42,
   "metadata": {},
   "outputs": [
    {
     "data": {
      "text/plain": [
       "<zip at 0x10ae17548>"
      ]
     },
     "execution_count": 42,
     "metadata": {},
     "output_type": "execute_result"
    }
   ],
   "source": [
    "zip(names, scores, ages)"
   ]
  },
  {
   "cell_type": "code",
   "execution_count": 43,
   "metadata": {},
   "outputs": [],
   "source": [
    "def compare(x):\n",
    "    return x[1]"
   ]
  },
  {
   "cell_type": "code",
   "execution_count": 68,
   "metadata": {},
   "outputs": [
    {
     "data": {
      "text/plain": [
       "[('Mohan', 2, 13), ('Ram', 3, 10), ('Shyam', 4, 11), ('Ravi', 5, 12)]"
      ]
     },
     "execution_count": 68,
     "metadata": {},
     "output_type": "execute_result"
    }
   ],
   "source": [
    "sorted( list(zip(names, scores, ages)), key = lambda x: x[1] )"
   ]
  },
  {
   "cell_type": "code",
   "execution_count": 41,
   "metadata": {},
   "outputs": [
    {
     "name": "stdout",
     "output_type": "stream",
     "text": [
      "Ram => 3 => 10\n",
      "Shyam => 4 => 11\n",
      "Ravi => 5 => 12\n",
      "Mohan => 2 => 13\n"
     ]
    }
   ],
   "source": [
    "for name, score, age in zip(names, scores, ages):\n",
    "    print(name, \"=>\", score, \"=>\", age)"
   ]
  },
  {
   "cell_type": "code",
   "execution_count": null,
   "metadata": {},
   "outputs": [],
   "source": []
  },
  {
   "cell_type": "code",
   "execution_count": null,
   "metadata": {},
   "outputs": [],
   "source": []
  },
  {
   "cell_type": "markdown",
   "metadata": {},
   "source": [
    "## 4. all and any\n",
    "\n",
    "![](https://i.imgflip.com/21cqld.jpg)\n",
    "\n",
    "- all\n",
    "\n",
    "Returns True if all elements of the iterable are true.\n",
    "\n",
    "- any\n",
    "\n",
    "Return True if any element of the iterable is true."
   ]
  },
  {
   "cell_type": "code",
   "execution_count": 47,
   "metadata": {},
   "outputs": [],
   "source": [
    "arr = [1, 2, 3, 4, 5, 6, 7, 8, 9, 0]"
   ]
  },
  {
   "cell_type": "code",
   "execution_count": 52,
   "metadata": {},
   "outputs": [],
   "source": [
    "def div_3(x):\n",
    "    return x%3 == 0"
   ]
  },
  {
   "cell_type": "code",
   "execution_count": 53,
   "metadata": {},
   "outputs": [
    {
     "data": {
      "text/plain": [
       "False"
      ]
     },
     "execution_count": 53,
     "metadata": {},
     "output_type": "execute_result"
    }
   ],
   "source": [
    "all([div_3(x) for x in arr])"
   ]
  },
  {
   "cell_type": "code",
   "execution_count": 60,
   "metadata": {},
   "outputs": [],
   "source": [
    "i = iter(map(div_3, arr))"
   ]
  },
  {
   "cell_type": "code",
   "execution_count": 66,
   "metadata": {},
   "outputs": [
    {
     "ename": "StopIteration",
     "evalue": "",
     "output_type": "error",
     "traceback": [
      "\u001b[0;31m---------------------------------------------------------------------------\u001b[0m",
      "\u001b[0;31mStopIteration\u001b[0m                             Traceback (most recent call last)",
      "\u001b[0;32m<ipython-input-66-a883b34d6d8a>\u001b[0m in \u001b[0;36m<module>\u001b[0;34m()\u001b[0m\n\u001b[0;32m----> 1\u001b[0;31m \u001b[0mnext\u001b[0m\u001b[0;34m(\u001b[0m\u001b[0mi\u001b[0m\u001b[0;34m)\u001b[0m\u001b[0;34m\u001b[0m\u001b[0m\n\u001b[0m",
      "\u001b[0;31mStopIteration\u001b[0m: "
     ]
    }
   ],
   "source": [
    "next(i)"
   ]
  },
  {
   "cell_type": "code",
   "execution_count": 55,
   "metadata": {},
   "outputs": [
    {
     "name": "stdout",
     "output_type": "stream",
     "text": [
      "False\n",
      "False\n",
      "True\n",
      "False\n",
      "False\n",
      "True\n",
      "False\n",
      "False\n",
      "True\n",
      "True\n"
     ]
    }
   ],
   "source": [
    "for x in map(div_3, arr):\n",
    "    print(x)"
   ]
  },
  {
   "cell_type": "code",
   "execution_count": 57,
   "metadata": {},
   "outputs": [
    {
     "name": "stdout",
     "output_type": "stream",
     "text": [
      "5 6 7 8 9\n"
     ]
    }
   ],
   "source": [
    "arr = [int(x) for x in input().split(' ')]"
   ]
  },
  {
   "cell_type": "code",
   "execution_count": 58,
   "metadata": {},
   "outputs": [
    {
     "name": "stdout",
     "output_type": "stream",
     "text": [
      "5 6 7 8 9\n"
     ]
    }
   ],
   "source": [
    "arr = map(int, input().split(' '))"
   ]
  },
  {
   "cell_type": "markdown",
   "metadata": {},
   "source": [
    "## 5. globals and locals\n",
    "\n",
    "- **globals**\n",
    "\n",
    "    Return a dictionary representing the current global symbol table. \n",
    "    \n",
    "- **locals**\n",
    "\n",
    "    Return a dictionary representing the current local symbol table."
   ]
  },
  {
   "cell_type": "code",
   "execution_count": 67,
   "metadata": {},
   "outputs": [
    {
     "data": {
      "text/plain": [
       "{'In': ['',\n",
       "  'arr = [1, 2, 6, 3, 4, 5]',\n",
       "  'arr.sort()',\n",
       "  'arr',\n",
       "  'arr = [1, 2, 6, 3, 4, 5]',\n",
       "  'sorted(arr)',\n",
       "  \"arr = [\\n        ('jatin', 1), \\n        ('jatin', 2), \\n        ('jatin', 6), ('jatin', 3), ('jatin', 4), ('jatin', 5)\\n]\",\n",
       "  'arr.sort()',\n",
       "  'arr',\n",
       "  \"arr = [\\n        ('jatin', ), \\n        ('jbtin', 2), \\n        ('jctin', 6), ('jdtin', 3), ('jetin', 4), ('jftin', 5)\\n]\",\n",
       "  'arr.sort()',\n",
       "  'arr',\n",
       "  \"arr = [\\n        ('jatin', 1), \\n        ('jbtin', 2), \\n        ('jctin', 6), ('jdtin', 3), ('jetin', 4), ('jftin', 5)\\n]\",\n",
       "  'arr.sort()',\n",
       "  'arr',\n",
       "  'arr.sort(key = lambda x: x[1])',\n",
       "  'arr',\n",
       "  'arr = [5, 4, 3, 7, 6, 1]',\n",
       "  'sorted(arr)',\n",
       "  'sorted(arr)[::-1]',\n",
       "  'sorted(arr, reverse=True)',\n",
       "  \"arr = [('a', 2), ('b', 4), ('c', 2), ('d', 1)]\",\n",
       "  'sorted(arr, key = lambda x: x[1])',\n",
       "  'sorted(arr, key = lambda x: x[1])[::-1]',\n",
       "  'sorted(arr, key = lambda x: x[1], reverse = True)',\n",
       "  \"get_ipython().run_line_magic('pinfo', 'sorted')\",\n",
       "  'arr = [1, 1, 1, 1, 1, 1, 5, 5, 5, 5, 5, 5, 5, 2, 2, 2, 2, 2, 2, 3, 3, 3, 3, 3, 4, 4, 4, 4]',\n",
       "  'arr2 = list(set(arr))',\n",
       "  'arr',\n",
       "  'arr2',\n",
       "  'import time',\n",
       "  'a = time.time()\\nsorted(arr, reverse = True)\\nprint(time.time() - a)',\n",
       "  'a = time.time()\\nsorted(arr2, reverse = True)\\nprint(time.time() - a)',\n",
       "  'arr = [1, 2, 3, 4, 5]',\n",
       "  'for x in enumerate(arr):\\n    print(x)',\n",
       "  'for x in zip(names, scores):\\n    print(x)',\n",
       "  \"names = ['Ram', 'Shyam', 'Ravi', 'Mohan']\\nscores = [3,4,5,2]\",\n",
       "  'for x in zip(names, scores):\\n    print(x)',\n",
       "  \"names = ['Ram', 'Shyam', 'Ravi', 'Mohan']\\nscores = [3,4,5,2]\\nage = [10, 11, 12, 13]\",\n",
       "  \"names = ['Ram', 'Shyam', 'Ravi', 'Mohan']\\nscores = [3,4,5,2]\\nages = [10, 11, 12, 13]\",\n",
       "  'for x in zip(names, scores, ages):\\n    print(x)',\n",
       "  'for name, score, age in zip(names, scores, ages):\\n    print(name, \"=>\", score, \"=>\", age)',\n",
       "  'zip(names, scores, ages)',\n",
       "  'def compare(x):\\n    return x[1]',\n",
       "  'sorted( list(zip), key = compare )',\n",
       "  'sorted( list(zip), key = lambda x: x[1] )',\n",
       "  'sorted( list(zip(names, scores, ages)), key = compare )',\n",
       "  'arr = [1, 2, 3, 4, 5, 6, 7, 8, 9, 0]',\n",
       "  'all(arr)',\n",
       "  'any(arr)',\n",
       "  'def div_3(x):\\n    return not x%3',\n",
       "  'any([div_3(x) for x in arr])',\n",
       "  'def div_3(x):\\n    return x%3 == 0',\n",
       "  'all([div_3(x) for x in arr])',\n",
       "  'map(div_3, arr)',\n",
       "  'for x in map(div_3, arr):\\n    print(x)',\n",
       "  \"arr = [int(x) for x in input.split(' ')]\",\n",
       "  \"arr = [int(x) for x in input().split(' ')]\",\n",
       "  \"arr = map(int, input().split(' '))\",\n",
       "  'map(div_3, arr)',\n",
       "  'i = iter(map(div_3, arr))',\n",
       "  'next(i)',\n",
       "  'next(i)',\n",
       "  'next(i)',\n",
       "  'next(i)',\n",
       "  'next(i)',\n",
       "  'next(i)',\n",
       "  'globals()'],\n",
       " 'Out': {3: [1, 2, 3, 4, 5, 6],\n",
       "  5: [1, 2, 3, 4, 5, 6],\n",
       "  8: [('jatin', 1),\n",
       "   ('jatin', 2),\n",
       "   ('jatin', 3),\n",
       "   ('jatin', 4),\n",
       "   ('jatin', 5),\n",
       "   ('jatin', 6)],\n",
       "  11: [('jatin',),\n",
       "   ('jbtin', 2),\n",
       "   ('jctin', 6),\n",
       "   ('jdtin', 3),\n",
       "   ('jetin', 4),\n",
       "   ('jftin', 5)],\n",
       "  14: [('jatin', 1),\n",
       "   ('jbtin', 2),\n",
       "   ('jdtin', 3),\n",
       "   ('jetin', 4),\n",
       "   ('jftin', 5),\n",
       "   ('jctin', 6)],\n",
       "  16: [('jatin', 1),\n",
       "   ('jbtin', 2),\n",
       "   ('jdtin', 3),\n",
       "   ('jetin', 4),\n",
       "   ('jftin', 5),\n",
       "   ('jctin', 6)],\n",
       "  18: [1, 3, 4, 5, 6, 7],\n",
       "  19: [7, 6, 5, 4, 3, 1],\n",
       "  20: [7, 6, 5, 4, 3, 1],\n",
       "  22: [('d', 1), ('a', 2), ('c', 2), ('b', 4)],\n",
       "  23: [('b', 4), ('c', 2), ('a', 2), ('d', 1)],\n",
       "  24: [('b', 4), ('a', 2), ('c', 2), ('d', 1)],\n",
       "  28: [1,\n",
       "   1,\n",
       "   1,\n",
       "   1,\n",
       "   1,\n",
       "   1,\n",
       "   5,\n",
       "   5,\n",
       "   5,\n",
       "   5,\n",
       "   5,\n",
       "   5,\n",
       "   5,\n",
       "   2,\n",
       "   2,\n",
       "   2,\n",
       "   2,\n",
       "   2,\n",
       "   2,\n",
       "   3,\n",
       "   3,\n",
       "   3,\n",
       "   3,\n",
       "   3,\n",
       "   4,\n",
       "   4,\n",
       "   4,\n",
       "   4],\n",
       "  29: [1, 2, 3, 4, 5],\n",
       "  42: <zip at 0x10ae17548>,\n",
       "  46: [('Mohan', 2, 13), ('Ram', 3, 10), ('Shyam', 4, 11), ('Ravi', 5, 12)],\n",
       "  48: False,\n",
       "  49: True,\n",
       "  51: True,\n",
       "  53: False,\n",
       "  54: <map at 0x10b43e748>,\n",
       "  59: <map at 0x10b4413c8>,\n",
       "  61: False,\n",
       "  62: True,\n",
       "  63: False,\n",
       "  64: False,\n",
       "  65: True},\n",
       " '_': True,\n",
       " '_11': [('jatin',),\n",
       "  ('jbtin', 2),\n",
       "  ('jctin', 6),\n",
       "  ('jdtin', 3),\n",
       "  ('jetin', 4),\n",
       "  ('jftin', 5)],\n",
       " '_14': [('jatin', 1),\n",
       "  ('jbtin', 2),\n",
       "  ('jdtin', 3),\n",
       "  ('jetin', 4),\n",
       "  ('jftin', 5),\n",
       "  ('jctin', 6)],\n",
       " '_16': [('jatin', 1),\n",
       "  ('jbtin', 2),\n",
       "  ('jdtin', 3),\n",
       "  ('jetin', 4),\n",
       "  ('jftin', 5),\n",
       "  ('jctin', 6)],\n",
       " '_18': [1, 3, 4, 5, 6, 7],\n",
       " '_19': [7, 6, 5, 4, 3, 1],\n",
       " '_20': [7, 6, 5, 4, 3, 1],\n",
       " '_22': [('d', 1), ('a', 2), ('c', 2), ('b', 4)],\n",
       " '_23': [('b', 4), ('c', 2), ('a', 2), ('d', 1)],\n",
       " '_24': [('b', 4), ('a', 2), ('c', 2), ('d', 1)],\n",
       " '_28': [1,\n",
       "  1,\n",
       "  1,\n",
       "  1,\n",
       "  1,\n",
       "  1,\n",
       "  5,\n",
       "  5,\n",
       "  5,\n",
       "  5,\n",
       "  5,\n",
       "  5,\n",
       "  5,\n",
       "  2,\n",
       "  2,\n",
       "  2,\n",
       "  2,\n",
       "  2,\n",
       "  2,\n",
       "  3,\n",
       "  3,\n",
       "  3,\n",
       "  3,\n",
       "  3,\n",
       "  4,\n",
       "  4,\n",
       "  4,\n",
       "  4],\n",
       " '_29': [1, 2, 3, 4, 5],\n",
       " '_3': [1, 2, 3, 4, 5, 6],\n",
       " '_42': <zip at 0x10ae17548>,\n",
       " '_46': [('Mohan', 2, 13), ('Ram', 3, 10), ('Shyam', 4, 11), ('Ravi', 5, 12)],\n",
       " '_48': False,\n",
       " '_49': True,\n",
       " '_5': [1, 2, 3, 4, 5, 6],\n",
       " '_51': True,\n",
       " '_53': False,\n",
       " '_54': <map at 0x10b43e748>,\n",
       " '_59': <map at 0x10b4413c8>,\n",
       " '_61': False,\n",
       " '_62': True,\n",
       " '_63': False,\n",
       " '_64': False,\n",
       " '_65': True,\n",
       " '_8': [('jatin', 1),\n",
       "  ('jatin', 2),\n",
       "  ('jatin', 3),\n",
       "  ('jatin', 4),\n",
       "  ('jatin', 5),\n",
       "  ('jatin', 6)],\n",
       " '__': False,\n",
       " '___': False,\n",
       " '__builtin__': <module 'builtins' (built-in)>,\n",
       " '__builtins__': <module 'builtins' (built-in)>,\n",
       " '__doc__': 'Automatically created module for IPython interactive environment',\n",
       " '__loader__': None,\n",
       " '__name__': '__main__',\n",
       " '__package__': None,\n",
       " '__spec__': None,\n",
       " '_dh': ['/Users/jatinkatyal/Desktop/jatin/Python-Aug-Noida-2018/Lecture_5'],\n",
       " '_i': 'next(i)',\n",
       " '_i1': 'arr = [1, 2, 6, 3, 4, 5]',\n",
       " '_i10': 'arr.sort()',\n",
       " '_i11': 'arr',\n",
       " '_i12': \"arr = [\\n        ('jatin', 1), \\n        ('jbtin', 2), \\n        ('jctin', 6), ('jdtin', 3), ('jetin', 4), ('jftin', 5)\\n]\",\n",
       " '_i13': 'arr.sort()',\n",
       " '_i14': 'arr',\n",
       " '_i15': 'arr.sort(key = lambda x: x[1])',\n",
       " '_i16': 'arr',\n",
       " '_i17': 'arr = [5, 4, 3, 7, 6, 1]',\n",
       " '_i18': 'sorted(arr)',\n",
       " '_i19': 'sorted(arr)[::-1]',\n",
       " '_i2': 'arr.sort()',\n",
       " '_i20': 'sorted(arr, reverse=True)',\n",
       " '_i21': \"arr = [('a', 2), ('b', 4), ('c', 2), ('d', 1)]\",\n",
       " '_i22': 'sorted(arr, key = lambda x: x[1])',\n",
       " '_i23': 'sorted(arr, key = lambda x: x[1])[::-1]',\n",
       " '_i24': 'sorted(arr, key = lambda x: x[1], reverse = True)',\n",
       " '_i25': 'sorted?',\n",
       " '_i26': 'arr = [1, 1, 1, 1, 1, 1, 5, 5, 5, 5, 5, 5, 5, 2, 2, 2, 2, 2, 2, 3, 3, 3, 3, 3, 4, 4, 4, 4]',\n",
       " '_i27': 'arr2 = list(set(arr))',\n",
       " '_i28': 'arr',\n",
       " '_i29': 'arr2',\n",
       " '_i3': 'arr',\n",
       " '_i30': 'import time',\n",
       " '_i31': 'a = time.time()\\nsorted(arr, reverse = True)\\nprint(time.time() - a)',\n",
       " '_i32': 'a = time.time()\\nsorted(arr2, reverse = True)\\nprint(time.time() - a)',\n",
       " '_i33': 'arr = [1, 2, 3, 4, 5]',\n",
       " '_i34': 'for x in enumerate(arr):\\n    print(x)',\n",
       " '_i35': 'for x in zip(names, scores):\\n    print(x)',\n",
       " '_i36': \"names = ['Ram', 'Shyam', 'Ravi', 'Mohan']\\nscores = [3,4,5,2]\",\n",
       " '_i37': 'for x in zip(names, scores):\\n    print(x)',\n",
       " '_i38': \"names = ['Ram', 'Shyam', 'Ravi', 'Mohan']\\nscores = [3,4,5,2]\\nage = [10, 11, 12, 13]\",\n",
       " '_i39': \"names = ['Ram', 'Shyam', 'Ravi', 'Mohan']\\nscores = [3,4,5,2]\\nages = [10, 11, 12, 13]\",\n",
       " '_i4': 'arr = [1, 2, 6, 3, 4, 5]',\n",
       " '_i40': 'for x in zip(names, scores, ages):\\n    print(x)',\n",
       " '_i41': 'for name, score, age in zip(names, scores, ages):\\n    print(name, \"=>\", score, \"=>\", age)',\n",
       " '_i42': 'zip(names, scores, ages)',\n",
       " '_i43': 'def compare(x):\\n    return x[1]',\n",
       " '_i44': 'sorted( list(zip), key = compare )',\n",
       " '_i45': 'sorted( list(zip), key = lambda x: x[1] )',\n",
       " '_i46': 'sorted( list(zip(names, scores, ages)), key = compare )',\n",
       " '_i47': 'arr = [1, 2, 3, 4, 5, 6, 7, 8, 9, 0]',\n",
       " '_i48': 'all(arr)',\n",
       " '_i49': 'any(arr)',\n",
       " '_i5': 'sorted(arr)',\n",
       " '_i50': 'def div_3(x):\\n    return not x%3',\n",
       " '_i51': 'any([div_3(x) for x in arr])',\n",
       " '_i52': 'def div_3(x):\\n    return x%3 == 0',\n",
       " '_i53': 'all([div_3(x) for x in arr])',\n",
       " '_i54': 'map(div_3, arr)',\n",
       " '_i55': 'for x in map(div_3, arr):\\n    print(x)',\n",
       " '_i56': \"arr = [int(x) for x in input.split(' ')]\",\n",
       " '_i57': \"arr = [int(x) for x in input().split(' ')]\",\n",
       " '_i58': \"arr = map(int, input().split(' '))\",\n",
       " '_i59': 'map(div_3, arr)',\n",
       " '_i6': \"arr = [\\n        ('jatin', 1), \\n        ('jatin', 2), \\n        ('jatin', 6), ('jatin', 3), ('jatin', 4), ('jatin', 5)\\n]\",\n",
       " '_i60': 'i = iter(map(div_3, arr))',\n",
       " '_i61': 'next(i)',\n",
       " '_i62': 'next(i)',\n",
       " '_i63': 'next(i)',\n",
       " '_i64': 'next(i)',\n",
       " '_i65': 'next(i)',\n",
       " '_i66': 'next(i)',\n",
       " '_i67': 'globals()',\n",
       " '_i7': 'arr.sort()',\n",
       " '_i8': 'arr',\n",
       " '_i9': \"arr = [\\n        ('jatin', ), \\n        ('jbtin', 2), \\n        ('jctin', 6), ('jdtin', 3), ('jetin', 4), ('jftin', 5)\\n]\",\n",
       " '_ih': ['',\n",
       "  'arr = [1, 2, 6, 3, 4, 5]',\n",
       "  'arr.sort()',\n",
       "  'arr',\n",
       "  'arr = [1, 2, 6, 3, 4, 5]',\n",
       "  'sorted(arr)',\n",
       "  \"arr = [\\n        ('jatin', 1), \\n        ('jatin', 2), \\n        ('jatin', 6), ('jatin', 3), ('jatin', 4), ('jatin', 5)\\n]\",\n",
       "  'arr.sort()',\n",
       "  'arr',\n",
       "  \"arr = [\\n        ('jatin', ), \\n        ('jbtin', 2), \\n        ('jctin', 6), ('jdtin', 3), ('jetin', 4), ('jftin', 5)\\n]\",\n",
       "  'arr.sort()',\n",
       "  'arr',\n",
       "  \"arr = [\\n        ('jatin', 1), \\n        ('jbtin', 2), \\n        ('jctin', 6), ('jdtin', 3), ('jetin', 4), ('jftin', 5)\\n]\",\n",
       "  'arr.sort()',\n",
       "  'arr',\n",
       "  'arr.sort(key = lambda x: x[1])',\n",
       "  'arr',\n",
       "  'arr = [5, 4, 3, 7, 6, 1]',\n",
       "  'sorted(arr)',\n",
       "  'sorted(arr)[::-1]',\n",
       "  'sorted(arr, reverse=True)',\n",
       "  \"arr = [('a', 2), ('b', 4), ('c', 2), ('d', 1)]\",\n",
       "  'sorted(arr, key = lambda x: x[1])',\n",
       "  'sorted(arr, key = lambda x: x[1])[::-1]',\n",
       "  'sorted(arr, key = lambda x: x[1], reverse = True)',\n",
       "  \"get_ipython().run_line_magic('pinfo', 'sorted')\",\n",
       "  'arr = [1, 1, 1, 1, 1, 1, 5, 5, 5, 5, 5, 5, 5, 2, 2, 2, 2, 2, 2, 3, 3, 3, 3, 3, 4, 4, 4, 4]',\n",
       "  'arr2 = list(set(arr))',\n",
       "  'arr',\n",
       "  'arr2',\n",
       "  'import time',\n",
       "  'a = time.time()\\nsorted(arr, reverse = True)\\nprint(time.time() - a)',\n",
       "  'a = time.time()\\nsorted(arr2, reverse = True)\\nprint(time.time() - a)',\n",
       "  'arr = [1, 2, 3, 4, 5]',\n",
       "  'for x in enumerate(arr):\\n    print(x)',\n",
       "  'for x in zip(names, scores):\\n    print(x)',\n",
       "  \"names = ['Ram', 'Shyam', 'Ravi', 'Mohan']\\nscores = [3,4,5,2]\",\n",
       "  'for x in zip(names, scores):\\n    print(x)',\n",
       "  \"names = ['Ram', 'Shyam', 'Ravi', 'Mohan']\\nscores = [3,4,5,2]\\nage = [10, 11, 12, 13]\",\n",
       "  \"names = ['Ram', 'Shyam', 'Ravi', 'Mohan']\\nscores = [3,4,5,2]\\nages = [10, 11, 12, 13]\",\n",
       "  'for x in zip(names, scores, ages):\\n    print(x)',\n",
       "  'for name, score, age in zip(names, scores, ages):\\n    print(name, \"=>\", score, \"=>\", age)',\n",
       "  'zip(names, scores, ages)',\n",
       "  'def compare(x):\\n    return x[1]',\n",
       "  'sorted( list(zip), key = compare )',\n",
       "  'sorted( list(zip), key = lambda x: x[1] )',\n",
       "  'sorted( list(zip(names, scores, ages)), key = compare )',\n",
       "  'arr = [1, 2, 3, 4, 5, 6, 7, 8, 9, 0]',\n",
       "  'all(arr)',\n",
       "  'any(arr)',\n",
       "  'def div_3(x):\\n    return not x%3',\n",
       "  'any([div_3(x) for x in arr])',\n",
       "  'def div_3(x):\\n    return x%3 == 0',\n",
       "  'all([div_3(x) for x in arr])',\n",
       "  'map(div_3, arr)',\n",
       "  'for x in map(div_3, arr):\\n    print(x)',\n",
       "  \"arr = [int(x) for x in input.split(' ')]\",\n",
       "  \"arr = [int(x) for x in input().split(' ')]\",\n",
       "  \"arr = map(int, input().split(' '))\",\n",
       "  'map(div_3, arr)',\n",
       "  'i = iter(map(div_3, arr))',\n",
       "  'next(i)',\n",
       "  'next(i)',\n",
       "  'next(i)',\n",
       "  'next(i)',\n",
       "  'next(i)',\n",
       "  'next(i)',\n",
       "  'globals()'],\n",
       " '_ii': 'next(i)',\n",
       " '_iii': 'next(i)',\n",
       " '_oh': {3: [1, 2, 3, 4, 5, 6],\n",
       "  5: [1, 2, 3, 4, 5, 6],\n",
       "  8: [('jatin', 1),\n",
       "   ('jatin', 2),\n",
       "   ('jatin', 3),\n",
       "   ('jatin', 4),\n",
       "   ('jatin', 5),\n",
       "   ('jatin', 6)],\n",
       "  11: [('jatin',),\n",
       "   ('jbtin', 2),\n",
       "   ('jctin', 6),\n",
       "   ('jdtin', 3),\n",
       "   ('jetin', 4),\n",
       "   ('jftin', 5)],\n",
       "  14: [('jatin', 1),\n",
       "   ('jbtin', 2),\n",
       "   ('jdtin', 3),\n",
       "   ('jetin', 4),\n",
       "   ('jftin', 5),\n",
       "   ('jctin', 6)],\n",
       "  16: [('jatin', 1),\n",
       "   ('jbtin', 2),\n",
       "   ('jdtin', 3),\n",
       "   ('jetin', 4),\n",
       "   ('jftin', 5),\n",
       "   ('jctin', 6)],\n",
       "  18: [1, 3, 4, 5, 6, 7],\n",
       "  19: [7, 6, 5, 4, 3, 1],\n",
       "  20: [7, 6, 5, 4, 3, 1],\n",
       "  22: [('d', 1), ('a', 2), ('c', 2), ('b', 4)],\n",
       "  23: [('b', 4), ('c', 2), ('a', 2), ('d', 1)],\n",
       "  24: [('b', 4), ('a', 2), ('c', 2), ('d', 1)],\n",
       "  28: [1,\n",
       "   1,\n",
       "   1,\n",
       "   1,\n",
       "   1,\n",
       "   1,\n",
       "   5,\n",
       "   5,\n",
       "   5,\n",
       "   5,\n",
       "   5,\n",
       "   5,\n",
       "   5,\n",
       "   2,\n",
       "   2,\n",
       "   2,\n",
       "   2,\n",
       "   2,\n",
       "   2,\n",
       "   3,\n",
       "   3,\n",
       "   3,\n",
       "   3,\n",
       "   3,\n",
       "   4,\n",
       "   4,\n",
       "   4,\n",
       "   4],\n",
       "  29: [1, 2, 3, 4, 5],\n",
       "  42: <zip at 0x10ae17548>,\n",
       "  46: [('Mohan', 2, 13), ('Ram', 3, 10), ('Shyam', 4, 11), ('Ravi', 5, 12)],\n",
       "  48: False,\n",
       "  49: True,\n",
       "  51: True,\n",
       "  53: False,\n",
       "  54: <map at 0x10b43e748>,\n",
       "  59: <map at 0x10b4413c8>,\n",
       "  61: False,\n",
       "  62: True,\n",
       "  63: False,\n",
       "  64: False,\n",
       "  65: True},\n",
       " 'a': 1536470636.472627,\n",
       " 'age': 13,\n",
       " 'ages': [10, 11, 12, 13],\n",
       " 'arr': <map at 0x10ae21518>,\n",
       " 'arr2': [1, 2, 3, 4, 5],\n",
       " 'compare': <function __main__.compare>,\n",
       " 'div_3': <function __main__.div_3>,\n",
       " 'exit': <IPython.core.autocall.ZMQExitAutocall at 0x10acd63c8>,\n",
       " 'get_ipython': <bound method InteractiveShell.get_ipython of <ipykernel.zmqshell.ZMQInteractiveShell object at 0x1090032e8>>,\n",
       " 'i': <map at 0x10b441128>,\n",
       " 'name': 'Mohan',\n",
       " 'names': ['Ram', 'Shyam', 'Ravi', 'Mohan'],\n",
       " 'quit': <IPython.core.autocall.ZMQExitAutocall at 0x10acd63c8>,\n",
       " 'score': 2,\n",
       " 'scores': [3, 4, 5, 2],\n",
       " 'time': <module 'time' (built-in)>,\n",
       " 'x': True}"
      ]
     },
     "execution_count": 67,
     "metadata": {},
     "output_type": "execute_result"
    }
   ],
   "source": [
    "globals()"
   ]
  },
  {
   "cell_type": "code",
   "execution_count": 69,
   "metadata": {},
   "outputs": [],
   "source": [
    "def myfunc(a,b):\n",
    "    c=a+b\n",
    "    print(locals())\n",
    "    return c"
   ]
  },
  {
   "cell_type": "code",
   "execution_count": 70,
   "metadata": {},
   "outputs": [
    {
     "name": "stdout",
     "output_type": "stream",
     "text": [
      "{'c': 3, 'b': 2, 'a': 1}\n"
     ]
    },
    {
     "data": {
      "text/plain": [
       "3"
      ]
     },
     "execution_count": 70,
     "metadata": {},
     "output_type": "execute_result"
    }
   ],
   "source": [
    "myfunc(1, 2)"
   ]
  },
  {
   "cell_type": "markdown",
   "metadata": {},
   "source": [
    "## 6. eval\n",
    "\n",
    "```python\n",
    "eval(expression, globals=None, locals=None)\n",
    "```\n",
    "\n",
    "The expression argument is parsed and evaluated as a Python expression using the globals and locals dictionaries as global and local namespace."
   ]
  },
  {
   "cell_type": "code",
   "execution_count": 74,
   "metadata": {},
   "outputs": [
    {
     "name": "stdout",
     "output_type": "stream",
     "text": [
      "Hello\n"
     ]
    }
   ],
   "source": [
    "eval('''\n",
    "print('Hello')\n",
    "''')"
   ]
  },
  {
   "cell_type": "markdown",
   "metadata": {},
   "source": [
    "## 7. ord\n",
    "\n",
    "```python\n",
    "ord(character)\n",
    "```\n",
    "\n",
    "It returns the ASCII equivalent of the character given"
   ]
  },
  {
   "cell_type": "code",
   "execution_count": 75,
   "metadata": {},
   "outputs": [
    {
     "data": {
      "text/plain": [
       "97"
      ]
     },
     "execution_count": 75,
     "metadata": {},
     "output_type": "execute_result"
    }
   ],
   "source": [
    "ord('a')"
   ]
  },
  {
   "cell_type": "code",
   "execution_count": 76,
   "metadata": {},
   "outputs": [],
   "source": [
    "ord?"
   ]
  },
  {
   "cell_type": "markdown",
   "metadata": {},
   "source": [
    "## 8. bin\n",
    "\n",
    "```python\n",
    "bin(number)\n",
    "```\n",
    "\n",
    "It returns the binary equivalent of the number"
   ]
  },
  {
   "cell_type": "code",
   "execution_count": null,
   "metadata": {},
   "outputs": [],
   "source": []
  },
  {
   "cell_type": "markdown",
   "metadata": {},
   "source": [
    "## Other built-in functions can be found [here](https://docs.python.org/3/library/functions.html)"
   ]
  }
 ],
 "metadata": {
  "kernelspec": {
   "display_name": "Python 3",
   "language": "python",
   "name": "python3"
  },
  "language_info": {
   "codemirror_mode": {
    "name": "ipython",
    "version": 3
   },
   "file_extension": ".py",
   "mimetype": "text/x-python",
   "name": "python",
   "nbconvert_exporter": "python",
   "pygments_lexer": "ipython3",
   "version": "3.6.3"
  }
 },
 "nbformat": 4,
 "nbformat_minor": 2
}
